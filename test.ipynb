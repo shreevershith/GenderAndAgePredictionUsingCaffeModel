{
 "cells": [
  {
   "cell_type": "code",
   "execution_count": null,
   "metadata": {},
   "outputs": [],
   "source": [
    "import cv2\n",
    "import numpy as np\n",
    "#import pafy"
   ]
  },
  {
   "cell_type": "code",
   "execution_count": null,
   "metadata": {},
   "outputs": [],
   "source": [
    "#url of the video to predict Age and gender\n",
    "'''url = 'https://www.youtube.com/watch?v=6WS9UKxv-Ls'\n",
    "vPafy = pafy.new(url)\n",
    "play = vPafy.getbest(preftype=\"mp4\")\n",
    "cap = cv2.VideoCapture(play.url)'''\n",
    "\n",
    "cap = cv2.VideoCapture('video/video.mp4')\n",
    "#---Used for capturing the video from the webcam--\n",
    "#cap = cv2.VideoCapture(0)"
   ]
  },
  {
   "cell_type": "code",
   "execution_count": null,
   "metadata": {},
   "outputs": [],
   "source": [
    "cap.set(3, 480) #set width of the frame\n",
    "cap.set(4, 640) #set height of the frame\n",
    "MODEL_MEAN_VALUES = (78.4263377603, 87.7689143744, 114.895847746)\n",
    "age_list = ['(0, 2)', '(4, 6)', '(8, 12)', '(15, 20)', '(25, 32)', '(38, 43)', '(48, 53)', '(60, 100)']\n",
    "gender_list = ['Male', 'Female']"
   ]
  },
  {
   "cell_type": "code",
   "execution_count": null,
   "metadata": {},
   "outputs": [],
   "source": [
    "def load_caffe_models():\n",
    "    age_net = cv2.dnn.readNetFromCaffe('deploy_age.prototxt', 'age_net.caffemodel')\n",
    "    gender_net = cv2.dnn.readNetFromCaffe('deploy_gender.prototxt', 'gender_net.caffemodel')\n",
    "    return(age_net, gender_net)\n",
    "    \n",
    "def video_detector(age_net, gender_net):\n",
    "    font = cv2.FONT_HERSHEY_SIMPLEX\n",
    "    while True:\n",
    "        ret, image = cap.read()\n",
    "        face_cascade = cv2.CascadeClassifier('haarcascade_frontalface_default.xml')\n",
    "        gray = cv2.cvtColor(image, cv2.COLOR_BGR2GRAY)\n",
    "        faces = face_cascade.detectMultiScale(gray, 1.1, 5)\n",
    "        if(len(faces)>0):\n",
    "            print(\"Found {} faces\".format(str(len(faces))))\n",
    "            for (x, y, w, h )in faces:\n",
    "                cv2.rectangle(image, (x, y), (x+w, y+h), (255, 255, 0), 2)\n",
    "                #Get Face \n",
    "                face_img = image[y:y+h, h:h+w].copy()\n",
    "                blob = cv2.dnn.blobFromImage(face_img, 1, (227, 227), MODEL_MEAN_VALUES, swapRB=False)\n",
    "                #Predict Gender\n",
    "                gender_net.setInput(blob)\n",
    "                gender_preds = gender_net.forward()\n",
    "                gender = gender_list[gender_preds[0].argmax()]\n",
    "                print(\"Gender : \" + gender)\n",
    "                #Predict Age\n",
    "                age_net.setInput(blob)\n",
    "                age_preds = age_net.forward()\n",
    "                age = age_list[age_preds[0].argmax()]\n",
    "                print(\"Age Range: \" + age)\n",
    "    \n",
    "                overlay_text = \"%s %s\" % (gender, age)\n",
    "                cv2.putText(image, overlay_text, (x, y), font, 1, (255, 255, 255), 2, cv2.LINE_AA)\n",
    "                cv2.imshow('frame', image) \n",
    "                #0xFF is a hexadecimal constant which is 11111111 in binary.\n",
    "        if cv2.waitKey(20) & 0xFF == ord('q'):\n",
    "            break\n",
    "if __name__ == \"__main__\":\n",
    "    age_net, gender_net = load_caffe_models()\n",
    "    video_detector(age_net, gender_net)"
   ]
  }
 ],
 "metadata": {
  "kernelspec": {
   "display_name": "Python 3.6.5 64-bit",
   "language": "python",
   "name": "python3"
  },
  "language_info": {
   "codemirror_mode": {
    "name": "ipython",
    "version": 3
   },
   "file_extension": ".py",
   "mimetype": "text/x-python",
   "name": "python",
   "nbconvert_exporter": "python",
   "pygments_lexer": "ipython3",
   "version": "3.6.5"
  },
  "vscode": {
   "interpreter": {
    "hash": "5745e7ad8b48b4873514518aa2c9934b512db8366d8a04375c61c95b3723b29e"
   }
  }
 },
 "nbformat": 4,
 "nbformat_minor": 4
}
